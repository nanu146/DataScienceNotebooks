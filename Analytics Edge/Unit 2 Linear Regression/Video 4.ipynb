{
 "cells": [
  {
   "cell_type": "markdown",
   "metadata": {},
   "source": [
    "### Loading libraries"
   ]
  },
  {
   "cell_type": "code",
   "execution_count": 1,
   "metadata": {
    "collapsed": true
   },
   "outputs": [],
   "source": [
    "import pandas as pd"
   ]
  },
  {
   "cell_type": "code",
   "execution_count": 2,
   "metadata": {
    "collapsed": false
   },
   "outputs": [],
   "source": [
    "import sklearn.linear_model as lm"
   ]
  },
  {
   "cell_type": "code",
   "execution_count": 3,
   "metadata": {
    "collapsed": true
   },
   "outputs": [],
   "source": [
    "import numpy as np"
   ]
  },
  {
   "cell_type": "code",
   "execution_count": 74,
   "metadata": {
    "collapsed": true
   },
   "outputs": [],
   "source": [
    "from sklearn.feature_selection import SelectKBest"
   ]
  },
  {
   "cell_type": "code",
   "execution_count": 89,
   "metadata": {
    "collapsed": true
   },
   "outputs": [],
   "source": [
    "from sklearn.feature_selection import f_regression"
   ]
  },
  {
   "cell_type": "code",
   "execution_count": 78,
   "metadata": {
    "collapsed": true
   },
   "outputs": [],
   "source": [
    "from sklearn.datasets import load_iris"
   ]
  },
  {
   "cell_type": "markdown",
   "metadata": {},
   "source": [
    "-----"
   ]
  },
  {
   "cell_type": "code",
   "execution_count": 4,
   "metadata": {
    "collapsed": true
   },
   "outputs": [],
   "source": [
    "wine_ds= pd.read_csv(\"https://d37djvu3ytnwxt.cloudfront.net/assets/courseware/v1/834e8a91ad31bfcdf317bf6356b808f2/asset-v1:MITx+15.071x_3+1T2016+type@asset+block/wine.csv\")"
   ]
  },
  {
   "cell_type": "code",
   "execution_count": 5,
   "metadata": {
    "collapsed": false
   },
   "outputs": [
    {
     "data": {
      "text/html": [
       "<div>\n",
       "<table border=\"1\" class=\"dataframe\">\n",
       "  <thead>\n",
       "    <tr style=\"text-align: right;\">\n",
       "      <th></th>\n",
       "      <th>Year</th>\n",
       "      <th>Price</th>\n",
       "      <th>WinterRain</th>\n",
       "      <th>AGST</th>\n",
       "      <th>HarvestRain</th>\n",
       "      <th>Age</th>\n",
       "      <th>FrancePop</th>\n",
       "    </tr>\n",
       "  </thead>\n",
       "  <tbody>\n",
       "    <tr>\n",
       "      <th>0</th>\n",
       "      <td>1952</td>\n",
       "      <td>7.4950</td>\n",
       "      <td>600</td>\n",
       "      <td>17.1167</td>\n",
       "      <td>160</td>\n",
       "      <td>31</td>\n",
       "      <td>43183.569</td>\n",
       "    </tr>\n",
       "    <tr>\n",
       "      <th>1</th>\n",
       "      <td>1953</td>\n",
       "      <td>8.0393</td>\n",
       "      <td>690</td>\n",
       "      <td>16.7333</td>\n",
       "      <td>80</td>\n",
       "      <td>30</td>\n",
       "      <td>43495.030</td>\n",
       "    </tr>\n",
       "    <tr>\n",
       "      <th>2</th>\n",
       "      <td>1955</td>\n",
       "      <td>7.6858</td>\n",
       "      <td>502</td>\n",
       "      <td>17.1500</td>\n",
       "      <td>130</td>\n",
       "      <td>28</td>\n",
       "      <td>44217.857</td>\n",
       "    </tr>\n",
       "    <tr>\n",
       "      <th>3</th>\n",
       "      <td>1957</td>\n",
       "      <td>6.9845</td>\n",
       "      <td>420</td>\n",
       "      <td>16.1333</td>\n",
       "      <td>110</td>\n",
       "      <td>26</td>\n",
       "      <td>45152.252</td>\n",
       "    </tr>\n",
       "    <tr>\n",
       "      <th>4</th>\n",
       "      <td>1958</td>\n",
       "      <td>6.7772</td>\n",
       "      <td>582</td>\n",
       "      <td>16.4167</td>\n",
       "      <td>187</td>\n",
       "      <td>25</td>\n",
       "      <td>45653.805</td>\n",
       "    </tr>\n",
       "  </tbody>\n",
       "</table>\n",
       "</div>"
      ],
      "text/plain": [
       "   Year   Price  WinterRain     AGST  HarvestRain  Age  FrancePop\n",
       "0  1952  7.4950         600  17.1167          160   31  43183.569\n",
       "1  1953  8.0393         690  16.7333           80   30  43495.030\n",
       "2  1955  7.6858         502  17.1500          130   28  44217.857\n",
       "3  1957  6.9845         420  16.1333          110   26  45152.252\n",
       "4  1958  6.7772         582  16.4167          187   25  45653.805"
      ]
     },
     "execution_count": 5,
     "metadata": {},
     "output_type": "execute_result"
    }
   ],
   "source": [
    "wine_ds.head()"
   ]
  },
  {
   "cell_type": "code",
   "execution_count": 6,
   "metadata": {
    "collapsed": false,
    "scrolled": true
   },
   "outputs": [
    {
     "data": {
      "text/html": [
       "<div>\n",
       "<table border=\"1\" class=\"dataframe\">\n",
       "  <thead>\n",
       "    <tr style=\"text-align: right;\">\n",
       "      <th></th>\n",
       "      <th>Year</th>\n",
       "      <th>Price</th>\n",
       "      <th>WinterRain</th>\n",
       "      <th>AGST</th>\n",
       "      <th>HarvestRain</th>\n",
       "      <th>Age</th>\n",
       "      <th>FrancePop</th>\n",
       "    </tr>\n",
       "  </thead>\n",
       "  <tbody>\n",
       "    <tr>\n",
       "      <th>count</th>\n",
       "      <td>25.000000</td>\n",
       "      <td>25.000000</td>\n",
       "      <td>25.000000</td>\n",
       "      <td>25.000000</td>\n",
       "      <td>25.000000</td>\n",
       "      <td>25.000000</td>\n",
       "      <td>25.000000</td>\n",
       "    </tr>\n",
       "    <tr>\n",
       "      <th>mean</th>\n",
       "      <td>1965.800000</td>\n",
       "      <td>7.067224</td>\n",
       "      <td>605.280000</td>\n",
       "      <td>16.509336</td>\n",
       "      <td>148.560000</td>\n",
       "      <td>17.200000</td>\n",
       "      <td>49694.436760</td>\n",
       "    </tr>\n",
       "    <tr>\n",
       "      <th>std</th>\n",
       "      <td>7.691987</td>\n",
       "      <td>0.650341</td>\n",
       "      <td>132.277965</td>\n",
       "      <td>0.675397</td>\n",
       "      <td>74.419464</td>\n",
       "      <td>7.691987</td>\n",
       "      <td>3665.270243</td>\n",
       "    </tr>\n",
       "    <tr>\n",
       "      <th>min</th>\n",
       "      <td>1952.000000</td>\n",
       "      <td>6.204900</td>\n",
       "      <td>376.000000</td>\n",
       "      <td>14.983300</td>\n",
       "      <td>38.000000</td>\n",
       "      <td>5.000000</td>\n",
       "      <td>43183.569000</td>\n",
       "    </tr>\n",
       "    <tr>\n",
       "      <th>25%</th>\n",
       "      <td>1960.000000</td>\n",
       "      <td>6.518800</td>\n",
       "      <td>536.000000</td>\n",
       "      <td>16.200000</td>\n",
       "      <td>89.000000</td>\n",
       "      <td>11.000000</td>\n",
       "      <td>46583.995000</td>\n",
       "    </tr>\n",
       "    <tr>\n",
       "      <th>50%</th>\n",
       "      <td>1966.000000</td>\n",
       "      <td>7.121100</td>\n",
       "      <td>600.000000</td>\n",
       "      <td>16.533300</td>\n",
       "      <td>130.000000</td>\n",
       "      <td>17.000000</td>\n",
       "      <td>50254.966000</td>\n",
       "    </tr>\n",
       "    <tr>\n",
       "      <th>75%</th>\n",
       "      <td>1972.000000</td>\n",
       "      <td>7.495000</td>\n",
       "      <td>697.000000</td>\n",
       "      <td>17.066700</td>\n",
       "      <td>187.000000</td>\n",
       "      <td>23.000000</td>\n",
       "      <td>52894.183000</td>\n",
       "    </tr>\n",
       "    <tr>\n",
       "      <th>max</th>\n",
       "      <td>1978.000000</td>\n",
       "      <td>8.493700</td>\n",
       "      <td>830.000000</td>\n",
       "      <td>17.650000</td>\n",
       "      <td>292.000000</td>\n",
       "      <td>31.000000</td>\n",
       "      <td>54602.193000</td>\n",
       "    </tr>\n",
       "  </tbody>\n",
       "</table>\n",
       "</div>"
      ],
      "text/plain": [
       "              Year      Price  WinterRain       AGST  HarvestRain        Age  \\\n",
       "count    25.000000  25.000000   25.000000  25.000000    25.000000  25.000000   \n",
       "mean   1965.800000   7.067224  605.280000  16.509336   148.560000  17.200000   \n",
       "std       7.691987   0.650341  132.277965   0.675397    74.419464   7.691987   \n",
       "min    1952.000000   6.204900  376.000000  14.983300    38.000000   5.000000   \n",
       "25%    1960.000000   6.518800  536.000000  16.200000    89.000000  11.000000   \n",
       "50%    1966.000000   7.121100  600.000000  16.533300   130.000000  17.000000   \n",
       "75%    1972.000000   7.495000  697.000000  17.066700   187.000000  23.000000   \n",
       "max    1978.000000   8.493700  830.000000  17.650000   292.000000  31.000000   \n",
       "\n",
       "          FrancePop  \n",
       "count     25.000000  \n",
       "mean   49694.436760  \n",
       "std     3665.270243  \n",
       "min    43183.569000  \n",
       "25%    46583.995000  \n",
       "50%    50254.966000  \n",
       "75%    52894.183000  \n",
       "max    54602.193000  "
      ]
     },
     "execution_count": 6,
     "metadata": {},
     "output_type": "execute_result"
    }
   ],
   "source": [
    "wine_ds.describe()"
   ]
  },
  {
   "cell_type": "markdown",
   "metadata": {},
   "source": [
    "---"
   ]
  },
  {
   "cell_type": "code",
   "execution_count": 7,
   "metadata": {
    "collapsed": false
   },
   "outputs": [],
   "source": [
    "predictor= np.array(wine_ds[[\"AGST\"]])"
   ]
  },
  {
   "cell_type": "code",
   "execution_count": 8,
   "metadata": {
    "collapsed": true
   },
   "outputs": [],
   "source": [
    "response =np.array(wine_ds[[\"Price\"]])"
   ]
  },
  {
   "cell_type": "code",
   "execution_count": 9,
   "metadata": {
    "collapsed": true
   },
   "outputs": [],
   "source": [
    "modell=lm.LinearRegression()"
   ]
  },
  {
   "cell_type": "code",
   "execution_count": 10,
   "metadata": {
    "collapsed": false
   },
   "outputs": [
    {
     "data": {
      "text/plain": [
       "LinearRegression(copy_X=True, fit_intercept=True, n_jobs=1, normalize=False)"
      ]
     },
     "execution_count": 10,
     "metadata": {},
     "output_type": "execute_result"
    }
   ],
   "source": [
    "modell.fit(predictor,response)"
   ]
  },
  {
   "cell_type": "code",
   "execution_count": 11,
   "metadata": {
    "collapsed": false
   },
   "outputs": [
    {
     "data": {
      "text/plain": [
       "0.43502316779991984"
      ]
     },
     "execution_count": 11,
     "metadata": {},
     "output_type": "execute_result"
    }
   ],
   "source": [
    "modell.score(predictor,response)"
   ]
  },
  {
   "cell_type": "code",
   "execution_count": 12,
   "metadata": {
    "collapsed": true
   },
   "outputs": [],
   "source": [
    "predictor= np.array(wine_ds[[\"AGST\",\"Year\"]])"
   ]
  },
  {
   "cell_type": "code",
   "execution_count": 13,
   "metadata": {
    "collapsed": false
   },
   "outputs": [
    {
     "data": {
      "text/plain": [
       "LinearRegression(copy_X=True, fit_intercept=True, n_jobs=1, normalize=False)"
      ]
     },
     "execution_count": 13,
     "metadata": {},
     "output_type": "execute_result"
    }
   ],
   "source": [
    "modell.fit(predictor,response)"
   ]
  },
  {
   "cell_type": "code",
   "execution_count": 14,
   "metadata": {
    "collapsed": false
   },
   "outputs": [
    {
     "data": {
      "text/plain": [
       "0.52146795101516297"
      ]
     },
     "execution_count": 14,
     "metadata": {},
     "output_type": "execute_result"
    }
   ],
   "source": [
    "modell.score(predictor,response)"
   ]
  },
  {
   "cell_type": "markdown",
   "metadata": {},
   "source": [
    "---"
   ]
  },
  {
   "cell_type": "code",
   "execution_count": 15,
   "metadata": {
    "collapsed": true
   },
   "outputs": [],
   "source": [
    "predictor= np.array(wine_ds[[\"AGST\",\"Year\",\"WinterRain\"]])"
   ]
  },
  {
   "cell_type": "code",
   "execution_count": 16,
   "metadata": {
    "collapsed": false
   },
   "outputs": [
    {
     "data": {
      "text/plain": [
       "LinearRegression(copy_X=True, fit_intercept=True, n_jobs=1, normalize=False)"
      ]
     },
     "execution_count": 16,
     "metadata": {},
     "output_type": "execute_result"
    }
   ],
   "source": [
    "modell.fit(predictor,response)"
   ]
  },
  {
   "cell_type": "code",
   "execution_count": 17,
   "metadata": {
    "collapsed": false
   },
   "outputs": [
    {
     "data": {
      "text/plain": [
       "0.64309665642862968"
      ]
     },
     "execution_count": 17,
     "metadata": {},
     "output_type": "execute_result"
    }
   ],
   "source": [
    "modell.score(predictor,response)"
   ]
  },
  {
   "cell_type": "markdown",
   "metadata": {},
   "source": [
    "---"
   ]
  },
  {
   "cell_type": "code",
   "execution_count": 18,
   "metadata": {
    "collapsed": true
   },
   "outputs": [],
   "source": [
    "predictor= np.array(wine_ds[[\"AGST\",\"Year\",\"WinterRain\",\"HarvestRain\"]])"
   ]
  },
  {
   "cell_type": "code",
   "execution_count": 19,
   "metadata": {
    "collapsed": false
   },
   "outputs": [
    {
     "data": {
      "text/plain": [
       "LinearRegression(copy_X=True, fit_intercept=True, n_jobs=1, normalize=False)"
      ]
     },
     "execution_count": 19,
     "metadata": {},
     "output_type": "execute_result"
    }
   ],
   "source": [
    "modell.fit(predictor,response)"
   ]
  },
  {
   "cell_type": "code",
   "execution_count": 20,
   "metadata": {
    "collapsed": false
   },
   "outputs": [
    {
     "data": {
      "text/plain": [
       "0.82856621934242825"
      ]
     },
     "execution_count": 20,
     "metadata": {},
     "output_type": "execute_result"
    }
   ],
   "source": [
    "modell.score(predictor,response)"
   ]
  },
  {
   "cell_type": "markdown",
   "metadata": {},
   "source": [
    "---"
   ]
  },
  {
   "cell_type": "code",
   "execution_count": 21,
   "metadata": {
    "collapsed": true
   },
   "outputs": [],
   "source": [
    "predictor= np.array(wine_ds[[\"AGST\",\"Year\",\"WinterRain\",\"HarvestRain\",\"Age\"]])"
   ]
  },
  {
   "cell_type": "code",
   "execution_count": 22,
   "metadata": {
    "collapsed": false
   },
   "outputs": [
    {
     "data": {
      "text/plain": [
       "LinearRegression(copy_X=True, fit_intercept=True, n_jobs=1, normalize=False)"
      ]
     },
     "execution_count": 22,
     "metadata": {},
     "output_type": "execute_result"
    }
   ],
   "source": [
    "modell.fit(predictor,response)"
   ]
  },
  {
   "cell_type": "code",
   "execution_count": 23,
   "metadata": {
    "collapsed": false
   },
   "outputs": [
    {
     "data": {
      "text/plain": [
       "0.82864406587895278"
      ]
     },
     "execution_count": 23,
     "metadata": {},
     "output_type": "execute_result"
    }
   ],
   "source": [
    "modell.score(predictor,response)"
   ]
  },
  {
   "cell_type": "markdown",
   "metadata": {},
   "source": [
    "---"
   ]
  },
  {
   "cell_type": "code",
   "execution_count": 25,
   "metadata": {
    "collapsed": true
   },
   "outputs": [],
   "source": [
    "predictor= np.array(wine_ds[[\"AGST\",\"Year\",\"WinterRain\",\"HarvestRain\",\"Age\",\"FrancePop\"]])"
   ]
  },
  {
   "cell_type": "code",
   "execution_count": 26,
   "metadata": {
    "collapsed": false
   },
   "outputs": [
    {
     "data": {
      "text/plain": [
       "LinearRegression(copy_X=True, fit_intercept=True, n_jobs=1, normalize=False)"
      ]
     },
     "execution_count": 26,
     "metadata": {},
     "output_type": "execute_result"
    }
   ],
   "source": [
    "modell.fit(predictor,response)"
   ]
  },
  {
   "cell_type": "code",
   "execution_count": 27,
   "metadata": {
    "collapsed": false
   },
   "outputs": [
    {
     "data": {
      "text/plain": [
       "0.82935922232990411"
      ]
     },
     "execution_count": 27,
     "metadata": {},
     "output_type": "execute_result"
    }
   ],
   "source": [
    "modell.score(predictor,response)"
   ]
  },
  {
   "cell_type": "code",
   "execution_count": 28,
   "metadata": {
    "collapsed": false
   },
   "outputs": [
    {
     "data": {
      "text/plain": [
       "array([[ 1.        ,  0.99999543,  0.99999741,  0.99999151,  0.99999705,\n",
       "         0.99999256,  0.99998662,  0.99997948,  0.99998905,  0.99998964,\n",
       "         0.99998104,  0.99998063,  0.9999756 ,  0.9999814 ,  0.99997381,\n",
       "         0.99997489,  0.99997914,  0.99997629,  0.99997248,  0.99996339,\n",
       "         0.99996847,  0.99996787,  0.99995498,  0.99996104,  0.99996382],\n",
       "       [ 0.99999543,  1.        ,  0.99998855,  0.99997896,  0.99998948,\n",
       "         0.99997968,  0.99998356,  0.99999171,  0.99999318,  0.99998422,\n",
       "         0.99996782,  0.99996967,  0.99998331,  0.99998236,  0.99996198,\n",
       "         0.99996341,  0.9999765 ,  0.99996918,  0.99996264,  0.99994753,\n",
       "         0.99995919,  0.99995899,  0.99993591,  0.99996687,  0.99996839],\n",
       "       [ 0.99999741,  0.99998855,  1.        ,  0.99999829,  0.99999707,\n",
       "         0.99999722,  0.99997958,  0.99996923,  0.99998531,  0.99999041,\n",
       "         0.99999055,  0.99998256,  0.99996844,  0.99997885,  0.99997616,\n",
       "         0.99997874,  0.99998094,  0.99998119,  0.99997827,  0.99997545,\n",
       "         0.99997326,  0.99997283,  0.99996604,  0.99995655,  0.99996155],\n",
       "       [ 0.99999151,  0.99997896,  0.99999829,  1.        ,  0.99999356,\n",
       "         0.9999975 ,  0.9999707 ,  0.99995708,  0.99997856,  0.99998765,\n",
       "         0.99999473,  0.99998108,  0.99995917,  0.99997343,  0.99997516,\n",
       "         0.99997885,  0.99997903,  0.99998189,  0.99997983,  0.99998202,\n",
       "         0.9999741 ,  0.99997379,  0.99997214,  0.99994968,  0.9999564 ],\n",
       "       [ 0.99999705,  0.99998948,  0.99999707,  0.99999356,  1.        ,\n",
       "         0.99999772,  0.99999168,  0.99997784,  0.99999134,  0.99999701,\n",
       "         0.99999043,  0.99999258,  0.99998099,  0.99998951,  0.99998812,\n",
       "         0.99998906,  0.99998959,  0.9999889 ,  0.99998702,  0.99997957,\n",
       "         0.99998428,  0.99998374,  0.99997464,  0.9999726 ,  0.99997549],\n",
       "       [ 0.99999256,  0.99997968,  0.99999722,  0.9999975 ,  0.99999772,\n",
       "         1.        ,  0.99998299,  0.9999632 ,  0.99998323,  0.99999432,\n",
       "         0.9999959 ,  0.99999187,  0.99996924,  0.99998266,  0.99998776,\n",
       "         0.99998968,  0.99998661,  0.99998918,  0.99998852,  0.99998703,\n",
       "         0.99998482,  0.99998428,  0.99998201,  0.99996276,  0.99996756],\n",
       "       [ 0.99998662,  0.99998356,  0.99997958,  0.9999707 ,  0.99999168,\n",
       "         0.99998299,  1.        ,  0.99998361,  0.99998918,  0.99999247,\n",
       "         0.99997109,  0.99999163,  0.99998936,  0.99999225,  0.99998925,\n",
       "         0.99998697,  0.9999866 ,  0.99998251,  0.99998134,  0.99996354,\n",
       "         0.99998217,  0.99998134,  0.99996509,  0.99998325,  0.99998186],\n",
       "       [ 0.99997948,  0.99999171,  0.99996923,  0.99995708,  0.99997784,\n",
       "         0.9999632 ,  0.99998361,  1.        ,  0.99999524,  0.99998125,\n",
       "         0.99995493,  0.99996693,  0.99999572,  0.99998916,  0.99996166,\n",
       "         0.99996251,  0.9999807 ,  0.99997017,  0.9999631 ,  0.99994071,\n",
       "         0.99996269,  0.99996294,  0.99993134,  0.99998519,  0.99998437],\n",
       "       [ 0.99998905,  0.99999318,  0.99998531,  0.99997856,  0.99999134,\n",
       "         0.99998323,  0.99998918,  0.99999524,  1.        ,  0.9999946 ,\n",
       "         0.9999794 ,  0.99998414,  0.99999609,  0.99999675,  0.99997977,\n",
       "         0.99998169,  0.99999375,  0.99998807,  0.99998314,  0.99996895,\n",
       "         0.9999817 ,  0.9999819 ,  0.99996046,  0.99998903,  0.99999066],\n",
       "       [ 0.99998964,  0.99998422,  0.99999041,  0.99998765,  0.99999701,\n",
       "         0.99999432,  0.99999247,  0.99998125,  0.9999946 ,  1.        ,\n",
       "         0.99999193,  0.99999675,  0.99998908,  0.99999678,  0.99999418,\n",
       "         0.99999548,  0.99999765,  0.99999678,  0.9999952 ,  0.99998662,\n",
       "         0.99999392,  0.99999374,  0.99998292,  0.99998613,  0.99998871],\n",
       "       [ 0.99998104,  0.99996782,  0.99999055,  0.99999473,  0.99999043,\n",
       "         0.9999959 ,  0.99997109,  0.99995493,  0.9999794 ,  0.99999193,\n",
       "         1.        ,  0.99998926,  0.99996531,  0.99998111,  0.99998631,\n",
       "         0.99999033,  0.9999892 ,  0.99999359,  0.99999306,  0.99999604,\n",
       "         0.99998916,  0.99998916,  0.99998919,  0.99996412,  0.99997088],\n",
       "       [ 0.99998063,  0.99996967,  0.99998256,  0.99998108,  0.99999258,\n",
       "         0.99999187,  0.99999163,  0.99996693,  0.99998414,  0.99999675,\n",
       "         0.99998926,  1.        ,  0.9999809 ,  0.999992  ,  0.99999948,\n",
       "         0.99999931,  0.99999394,  0.99999556,  0.9999967 ,  0.99998897,\n",
       "         0.99999671,  0.99999615,  0.99999088,  0.99998189,  0.99998381],\n",
       "       [ 0.9999756 ,  0.99998331,  0.99996844,  0.99995917,  0.99998099,\n",
       "         0.99996924,  0.99998936,  0.99999572,  0.99999609,  0.99998908,\n",
       "         0.99996531,  0.9999809 ,  1.        ,  0.99999718,  0.99997847,\n",
       "         0.9999789 ,  0.99999149,  0.99998385,  0.99997937,  0.99995912,\n",
       "         0.99998048,  0.99998071,  0.99995449,  0.99999663,  0.99999587],\n",
       "       [ 0.9999814 ,  0.99998236,  0.99997885,  0.99997343,  0.99998951,\n",
       "         0.99998266,  0.99999225,  0.99998916,  0.99999675,  0.99999678,\n",
       "         0.99998111,  0.999992  ,  0.99999718,  1.        ,  0.9999902 ,\n",
       "         0.99999114,  0.99999818,  0.9999943 ,  0.99999164,  0.99997742,\n",
       "         0.99999198,  0.99999208,  0.99997398,  0.99999597,  0.99999689],\n",
       "       [ 0.99997381,  0.99996198,  0.99997616,  0.99997516,  0.99998812,\n",
       "         0.99998776,  0.99998925,  0.99996166,  0.99997977,  0.99999418,\n",
       "         0.99998631,  0.99999948,  0.99997847,  0.9999902 ,  1.        ,\n",
       "         0.99999951,  0.99999258,  0.99999477,  0.9999967 ,  0.99998882,\n",
       "         0.99999747,  0.9999969 ,  0.99999258,  0.99998193,  0.99998355],\n",
       "       [ 0.99997489,  0.99996341,  0.99997874,  0.99997885,  0.99998906,\n",
       "         0.99998968,  0.99998697,  0.99996251,  0.99998169,  0.99999548,\n",
       "         0.99999033,  0.99999931,  0.9999789 ,  0.99999114,  0.99999951,\n",
       "         1.        ,  0.99999474,  0.99999724,  0.99999869,  0.99999262,\n",
       "         0.99999883,  0.99999847,  0.99999445,  0.9999825 ,  0.99998506],\n",
       "       [ 0.99997914,  0.9999765 ,  0.99998094,  0.99997903,  0.99998959,\n",
       "         0.99998661,  0.9999866 ,  0.9999807 ,  0.99999375,  0.99999765,\n",
       "         0.9999892 ,  0.99999394,  0.99999149,  0.99999818,  0.99999258,\n",
       "         0.99999474,  1.        ,  0.99999873,  0.99999685,  0.99998784,\n",
       "         0.99999642,  0.99999665,  0.99998368,  0.99999269,  0.99999543],\n",
       "       [ 0.99997629,  0.99996918,  0.99998119,  0.99998189,  0.9999889 ,\n",
       "         0.99998918,  0.99998251,  0.99997017,  0.99998807,  0.99999678,\n",
       "         0.99999359,  0.99999556,  0.99998385,  0.9999943 ,  0.99999477,\n",
       "         0.99999724,  0.99999873,  1.        ,  0.99999941,  0.99999432,\n",
       "         0.99999859,  0.99999874,  0.99999117,  0.99998687,  0.99999069],\n",
       "       [ 0.99997248,  0.99996264,  0.99997827,  0.99997983,  0.99998702,\n",
       "         0.99998852,  0.99998134,  0.9999631 ,  0.99998314,  0.9999952 ,\n",
       "         0.99999306,  0.9999967 ,  0.99997937,  0.99999164,  0.9999967 ,\n",
       "         0.99999869,  0.99999685,  0.99999941,  1.        ,  0.99999585,\n",
       "         0.99999956,  0.99999956,  0.99999486,  0.99998401,  0.99998776],\n",
       "       [ 0.99996339,  0.99994753,  0.99997545,  0.99998202,  0.99997957,\n",
       "         0.99998703,  0.99996354,  0.99994071,  0.99996895,  0.99998662,\n",
       "         0.99999604,  0.99998897,  0.99995912,  0.99997742,  0.99998882,\n",
       "         0.99999262,  0.99998784,  0.99999432,  0.99999585,  1.        ,\n",
       "         0.99999359,  0.9999937 ,  0.99999716,  0.99996516,  0.99997183],\n",
       "       [ 0.99996847,  0.99995919,  0.99997326,  0.9999741 ,  0.99998428,\n",
       "         0.99998482,  0.99998217,  0.99996269,  0.9999817 ,  0.99999392,\n",
       "         0.99998916,  0.99999671,  0.99998048,  0.99999198,  0.99999747,\n",
       "         0.99999883,  0.99999642,  0.99999859,  0.99999956,  0.99999359,\n",
       "         1.        ,  0.99999997,  0.99999431,  0.99998649,  0.99998942],\n",
       "       [ 0.99996787,  0.99995899,  0.99997283,  0.99997379,  0.99998374,\n",
       "         0.99998428,  0.99998134,  0.99996294,  0.9999819 ,  0.99999374,\n",
       "         0.99998916,  0.99999615,  0.99998071,  0.99999208,  0.9999969 ,\n",
       "         0.99999847,  0.99999665,  0.99999874,  0.99999956,  0.9999937 ,\n",
       "         0.99999997,  1.        ,  0.99999404,  0.9999869 ,  0.99998995],\n",
       "       [ 0.99995498,  0.99993591,  0.99996604,  0.99997214,  0.99997464,\n",
       "         0.99998201,  0.99996509,  0.99993134,  0.99996046,  0.99998292,\n",
       "         0.99998919,  0.99999088,  0.99995449,  0.99997398,  0.99999258,\n",
       "         0.99999445,  0.99998368,  0.99999117,  0.99999486,  0.99999716,\n",
       "         0.99999431,  0.99999404,  1.        ,  0.99996347,  0.99996861],\n",
       "       [ 0.99996104,  0.99996687,  0.99995655,  0.99994968,  0.9999726 ,\n",
       "         0.99996276,  0.99998325,  0.99998519,  0.99998903,  0.99998613,\n",
       "         0.99996412,  0.99998189,  0.99999663,  0.99999597,  0.99998193,\n",
       "         0.9999825 ,  0.99999269,  0.99998687,  0.99998401,  0.99996516,\n",
       "         0.99998649,  0.9999869 ,  0.99996347,  1.        ,  0.9999994 ],\n",
       "       [ 0.99996382,  0.99996839,  0.99996155,  0.9999564 ,  0.99997549,\n",
       "         0.99996756,  0.99998186,  0.99998437,  0.99999066,  0.99998871,\n",
       "         0.99997088,  0.99998381,  0.99999587,  0.99999689,  0.99998355,\n",
       "         0.99998506,  0.99999543,  0.99999069,  0.99998776,  0.99997183,\n",
       "         0.99998942,  0.99998995,  0.99996861,  0.9999994 ,  1.        ]])"
      ]
     },
     "execution_count": 28,
     "metadata": {},
     "output_type": "execute_result"
    }
   ],
   "source": [
    "np.corrcoef(predictor)"
   ]
  },
  {
   "cell_type": "code",
   "execution_count": 41,
   "metadata": {
    "collapsed": false
   },
   "outputs": [],
   "source": [
    "df=wine_ds[[\"AGST\",\"Year\",\"WinterRain\",\"HarvestRain\",\"Age\",\"FrancePop\",\"Price\"]].corr(method='pearson')"
   ]
  },
  {
   "cell_type": "code",
   "execution_count": 45,
   "metadata": {
    "collapsed": false
   },
   "outputs": [
    {
     "data": {
      "text/plain": [
       "AGST           0.014814\n",
       "Year          -0.655220\n",
       "WinterRain    -0.461503\n",
       "HarvestRain   -0.861994\n",
       "Age           -1.344780\n",
       "FrancePop     -0.686381\n",
       "Price         -0.233970\n",
       "dtype: float64"
      ]
     },
     "execution_count": 45,
     "metadata": {},
     "output_type": "execute_result"
    }
   ],
   "source": [
    "df.sum()-1"
   ]
  },
  {
   "cell_type": "code",
   "execution_count": 46,
   "metadata": {
    "collapsed": false
   },
   "outputs": [
    {
     "data": {
      "text/html": [
       "<div>\n",
       "<table border=\"1\" class=\"dataframe\">\n",
       "  <thead>\n",
       "    <tr style=\"text-align: right;\">\n",
       "      <th></th>\n",
       "      <th>AGST</th>\n",
       "      <th>Year</th>\n",
       "      <th>WinterRain</th>\n",
       "      <th>HarvestRain</th>\n",
       "      <th>Age</th>\n",
       "      <th>FrancePop</th>\n",
       "      <th>Price</th>\n",
       "    </tr>\n",
       "  </thead>\n",
       "  <tbody>\n",
       "    <tr>\n",
       "      <th>AGST</th>\n",
       "      <td>1.000000</td>\n",
       "      <td>-0.246916</td>\n",
       "      <td>-0.321091</td>\n",
       "      <td>-0.064496</td>\n",
       "      <td>0.246916</td>\n",
       "      <td>-0.259162</td>\n",
       "      <td>0.659563</td>\n",
       "    </tr>\n",
       "    <tr>\n",
       "      <th>Year</th>\n",
       "      <td>-0.246916</td>\n",
       "      <td>1.000000</td>\n",
       "      <td>0.016970</td>\n",
       "      <td>0.028009</td>\n",
       "      <td>-1.000000</td>\n",
       "      <td>0.994485</td>\n",
       "      <td>-0.447768</td>\n",
       "    </tr>\n",
       "    <tr>\n",
       "      <th>WinterRain</th>\n",
       "      <td>-0.321091</td>\n",
       "      <td>0.016970</td>\n",
       "      <td>1.000000</td>\n",
       "      <td>-0.275441</td>\n",
       "      <td>-0.016970</td>\n",
       "      <td>-0.001622</td>\n",
       "      <td>0.136651</td>\n",
       "    </tr>\n",
       "    <tr>\n",
       "      <th>HarvestRain</th>\n",
       "      <td>-0.064496</td>\n",
       "      <td>0.028009</td>\n",
       "      <td>-0.275441</td>\n",
       "      <td>1.000000</td>\n",
       "      <td>-0.028009</td>\n",
       "      <td>0.041264</td>\n",
       "      <td>-0.563322</td>\n",
       "    </tr>\n",
       "    <tr>\n",
       "      <th>Age</th>\n",
       "      <td>0.246916</td>\n",
       "      <td>-1.000000</td>\n",
       "      <td>-0.016970</td>\n",
       "      <td>-0.028009</td>\n",
       "      <td>1.000000</td>\n",
       "      <td>-0.994485</td>\n",
       "      <td>0.447768</td>\n",
       "    </tr>\n",
       "    <tr>\n",
       "      <th>FrancePop</th>\n",
       "      <td>-0.259162</td>\n",
       "      <td>0.994485</td>\n",
       "      <td>-0.001622</td>\n",
       "      <td>0.041264</td>\n",
       "      <td>-0.994485</td>\n",
       "      <td>1.000000</td>\n",
       "      <td>-0.466862</td>\n",
       "    </tr>\n",
       "    <tr>\n",
       "      <th>Price</th>\n",
       "      <td>0.659563</td>\n",
       "      <td>-0.447768</td>\n",
       "      <td>0.136651</td>\n",
       "      <td>-0.563322</td>\n",
       "      <td>0.447768</td>\n",
       "      <td>-0.466862</td>\n",
       "      <td>1.000000</td>\n",
       "    </tr>\n",
       "  </tbody>\n",
       "</table>\n",
       "</div>"
      ],
      "text/plain": [
       "                 AGST      Year  WinterRain  HarvestRain       Age  FrancePop  \\\n",
       "AGST         1.000000 -0.246916   -0.321091    -0.064496  0.246916  -0.259162   \n",
       "Year        -0.246916  1.000000    0.016970     0.028009 -1.000000   0.994485   \n",
       "WinterRain  -0.321091  0.016970    1.000000    -0.275441 -0.016970  -0.001622   \n",
       "HarvestRain -0.064496  0.028009   -0.275441     1.000000 -0.028009   0.041264   \n",
       "Age          0.246916 -1.000000   -0.016970    -0.028009  1.000000  -0.994485   \n",
       "FrancePop   -0.259162  0.994485   -0.001622     0.041264 -0.994485   1.000000   \n",
       "Price        0.659563 -0.447768    0.136651    -0.563322  0.447768  -0.466862   \n",
       "\n",
       "                Price  \n",
       "AGST         0.659563  \n",
       "Year        -0.447768  \n",
       "WinterRain   0.136651  \n",
       "HarvestRain -0.563322  \n",
       "Age          0.447768  \n",
       "FrancePop   -0.466862  \n",
       "Price        1.000000  "
      ]
     },
     "execution_count": 46,
     "metadata": {},
     "output_type": "execute_result"
    }
   ],
   "source": [
    "df"
   ]
  },
  {
   "cell_type": "markdown",
   "metadata": {},
   "source": [
    "----"
   ]
  },
  {
   "cell_type": "code",
   "execution_count": 115,
   "metadata": {
    "collapsed": true
   },
   "outputs": [],
   "source": [
    "predictor= np.array(wine_ds[[\"AGST\",\"Year\",\"HarvestRain\"]])"
   ]
  },
  {
   "cell_type": "markdown",
   "metadata": {},
   "source": [
    "  "
   ]
  },
  {
   "cell_type": "markdown",
   "metadata": {},
   "source": [
    " "
   ]
  },
  {
   "cell_type": "code",
   "execution_count": 121,
   "metadata": {
    "collapsed": true
   },
   "outputs": [],
   "source": [
    " selectrofunction=SelectKBest(f_regression,k=3)"
   ]
  },
  {
   "cell_type": "code",
   "execution_count": 122,
   "metadata": {
    "collapsed": true
   },
   "outputs": [],
   "source": [
    "X_New = selectrofunction.fit_transform(predictor,response.ravel())"
   ]
  },
  {
   "cell_type": "code",
   "execution_count": 123,
   "metadata": {
    "collapsed": false
   },
   "outputs": [
    {
     "data": {
      "text/plain": [
       "array([ True,  True,  True], dtype=bool)"
      ]
     },
     "execution_count": 123,
     "metadata": {},
     "output_type": "execute_result"
    }
   ],
   "source": [
    "selectrofunction.get_support()"
   ]
  },
  {
   "cell_type": "code",
   "execution_count": 124,
   "metadata": {
    "collapsed": false
   },
   "outputs": [
    {
     "data": {
      "text/plain": [
       "LinearRegression(copy_X=True, fit_intercept=True, n_jobs=1, normalize=False)"
      ]
     },
     "execution_count": 124,
     "metadata": {},
     "output_type": "execute_result"
    }
   ],
   "source": [
    "modell.fit(X_New,response)"
   ]
  },
  {
   "cell_type": "code",
   "execution_count": 126,
   "metadata": {
    "collapsed": false
   },
   "outputs": [
    {
     "data": {
      "text/plain": [
       "0.79003623729561023"
      ]
     },
     "execution_count": 126,
     "metadata": {},
     "output_type": "execute_result"
    }
   ],
   "source": [
    "modell.score(X_New,response)"
   ]
  },
  {
   "cell_type": "code",
   "execution_count": null,
   "metadata": {
    "collapsed": true
   },
   "outputs": [],
   "source": []
  }
 ],
 "metadata": {
  "anaconda-cloud": {},
  "kernelspec": {
   "display_name": "Python [conda root]",
   "language": "python",
   "name": "conda-root-py"
  },
  "language_info": {
   "codemirror_mode": {
    "name": "ipython",
    "version": 3
   },
   "file_extension": ".py",
   "mimetype": "text/x-python",
   "name": "python",
   "nbconvert_exporter": "python",
   "pygments_lexer": "ipython3",
   "version": "3.5.2"
  }
 },
 "nbformat": 4,
 "nbformat_minor": 1
}
